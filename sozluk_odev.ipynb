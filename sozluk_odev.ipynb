{
 "cells": [
  {
   "cell_type": "markdown",
   "id": "2630ef9a-c784-4ca0-8d20-925a2df67325",
   "metadata": {},
   "source": [
    "**Ödev-1:** Bir sözlük oluşturulur ve bu sözlükte öğrencilerin isimleri ve Matematik, Fizik, Kimya notları tutulur. Kullanıcıdan isim ve ders ismi(Matematik, Fizik, Kimya) istenir ve bu bilgilere göre çıktı verilir."
   ]
  },
  {
   "cell_type": "code",
   "execution_count": 6,
   "id": "de883520-3bb4-40e3-8130-1fdcd4d7d668",
   "metadata": {},
   "outputs": [
    {
     "name": "stdin",
     "output_type": "stream",
     "text": [
      "Öğrencinin ismini giriniz: Aslı Sude Tetik\n",
      "Notunu öğrenmek istediğiniz dersi giriniz Matematik\n"
     ]
    },
    {
     "name": "stdout",
     "output_type": "stream",
     "text": [
      "Aslı Sude Tetik adlı öğrencinin Matematik notu:85\n"
     ]
    }
   ],
   "source": [
    "ogrenci_notlari={\"Aslı Sude Tetik\":{\"Matematik\":85,\n",
    "                                    \"Fizik\":67,\n",
    "                                    \"Kimya\":84},\n",
    "                 \"Ayşe Yavuz\":{\"Matematik\":98,\n",
    "                               \"Fizik\":45,\n",
    "                               \"Kimya\":62},\n",
    "                 \"Hacı Berke Akyol\":{\"Matematik\":100,\n",
    "                                     \"Fizik\":97,\n",
    "                                     \"Kimya\":98},\n",
    "                 \"Ali Bahadır\":{\"Matematik\":85,\n",
    "                                \"Fizik\":47,\n",
    "                                \"Kimya\":94},}\n",
    "\n",
    "isim=input(\"Öğrencinin ismini giriniz:\")\n",
    "ders=input(\"Notunu öğrenmek istediğiniz dersi giriniz\")\n",
    "\n",
    "if isim in ogrenci_notlari:\n",
    "    print(f\"{isim} adlı öğrencinin {ders} notu:{ogrenci_notlari[isim][ders]}\")\n",
    "else:\n",
    "    print(\"Girilen isimde öğrenci bulunmamaktadır!\")"
   ]
  },
  {
   "cell_type": "markdown",
   "id": "20e88b14-71a9-42be-9b56-d3566998e250",
   "metadata": {},
   "source": [
    "**Ödev-2:** Sözlük üzerinde değerleri değiştirme, yeni değer ekleme, kullanıcıya ulaşmak istediği bilgileri sorma gibi uygulamalar yapın."
   ]
  },
  {
   "cell_type": "code",
   "execution_count": 1,
   "id": "e189e307-358f-4bf7-afdb-1f662e3d47db",
   "metadata": {},
   "outputs": [
    {
     "name": "stdout",
     "output_type": "stream",
     "text": [
      "Oluşturulan sözlük: {'anahtar1': 'değer1', 'anahtar2': 'değer2', 'anahtar3': 'değer3'}\n"
     ]
    }
   ],
   "source": [
    "sozluk = {'anahtar1': 'değer1', 'anahtar2': 'değer2', 'anahtar3': 'değer3'}\n",
    "print(\"Oluşturulan sözlük:\", sozluk)"
   ]
  },
  {
   "cell_type": "code",
   "execution_count": 2,
   "id": "277af0c9-0a8c-4f62-bf23-9e3da30b7ce3",
   "metadata": {},
   "outputs": [
    {
     "name": "stdout",
     "output_type": "stream",
     "text": [
      "Değer değiştirildikten sonra sözlük: {'anahtar1': 'değer1', 'anahtar2': 'yeni_değer2', 'anahtar3': 'değer3'}\n"
     ]
    }
   ],
   "source": [
    "sozluk['anahtar2'] = 'yeni_değer2'\n",
    "print(\"Değer değiştirildikten sonra sözlük:\", sozluk)"
   ]
  },
  {
   "cell_type": "code",
   "execution_count": 3,
   "id": "4343f18d-276a-4554-a256-00a6b769d7eb",
   "metadata": {},
   "outputs": [
    {
     "name": "stdout",
     "output_type": "stream",
     "text": [
      "Yeni değer ekledikten sonra sözlük: {'anahtar1': 'değer1', 'anahtar2': 'yeni_değer2', 'anahtar3': 'değer3', 'anahtar4': 'değer4'}\n"
     ]
    }
   ],
   "source": [
    "sozluk['anahtar4'] = 'değer4'\n",
    "print(\"Yeni değer ekledikten sonra sözlük:\", sozluk)"
   ]
  },
  {
   "cell_type": "code",
   "execution_count": 5,
   "id": "99123b63-2e2c-4254-8333-8f9b52bcf644",
   "metadata": {},
   "outputs": [
    {
     "name": "stdin",
     "output_type": "stream",
     "text": [
      "Lütfen bir anahtar girin:  anahtar1\n"
     ]
    },
    {
     "name": "stdout",
     "output_type": "stream",
     "text": [
      "anahtar1 anahtarının değeri: değer1\n"
     ]
    }
   ],
   "source": [
    "anahtar = input(\"Lütfen bir anahtar girin: \")\n",
    "if anahtar in sozluk:\n",
    "    print(f\"{anahtar} anahtarının değeri: {sozluk[anahtar]}\")\n",
    "else:\n",
    "    print(f\"{anahtar} anahtarı sözlükte bulunamadı.\")"
   ]
  }
 ],
 "metadata": {
  "kernelspec": {
   "display_name": "Python 3 (ipykernel)",
   "language": "python",
   "name": "python3"
  },
  "language_info": {
   "codemirror_mode": {
    "name": "ipython",
    "version": 3
   },
   "file_extension": ".py",
   "mimetype": "text/x-python",
   "name": "python",
   "nbconvert_exporter": "python",
   "pygments_lexer": "ipython3",
   "version": "3.11.7"
  }
 },
 "nbformat": 4,
 "nbformat_minor": 5
}
